{
 "cells": [
  {
   "cell_type": "markdown",
   "id": "602ed0a2-db3e-4ce5-bf7e-82878dfeba35",
   "metadata": {},
   "source": [
    "<br>\n",
    "<img src=\"data/airbnb_logo.png\" alt=\"Logo de Airbnb\" style=\"width:300px\"/><br>\n",
    "\n",
    "# **Airbnb Case**<br>\n",
    "\n",
    "### 👨‍💻 Jorge Gómez Galván\n",
    "* LinkedIn: [linkedin.com/in/jorgeggalvan/](https://www.linkedin.com/in/jorgeggalvan/) \n",
    "* E-mail: ggalvanjorge@gmail.com"
   ]
  },
  {
   "cell_type": "markdown",
   "id": "99109c2c-45cd-43fd-9bb6-99ad9fb8f4c9",
   "metadata": {},
   "source": [
    "---\n",
    "## **Análisis exploratorio de datos (EDA)**"
   ]
  },
  {
   "cell_type": "code",
   "execution_count": 1,
   "id": "482da35c-73af-4622-a57b-471259935101",
   "metadata": {},
   "outputs": [],
   "source": [
    "# Importación de librerías\n",
    "import pandas as pd\n",
    "\n",
    "import warnings\n",
    "warnings.filterwarnings('ignore')"
   ]
  },
  {
   "cell_type": "code",
   "execution_count": 2,
   "id": "4d7e59d4-da53-4ebf-a1f3-41cc78b89d0e",
   "metadata": {},
   "outputs": [],
   "source": [
    "# Lectura del dataset\n",
    "df_listings = pd.read_csv('./data/listings.csv')"
   ]
  },
  {
   "cell_type": "markdown",
   "id": "fa3c3b6f-5433-447b-b3dd-a7275a9574c6",
   "metadata": {
    "tags": []
   },
   "source": [
    "### **1 - Análisis rápido del dataset**"
   ]
  },
  {
   "cell_type": "markdown",
   "id": "fea06cb0-a8e0-4e7f-9e89-d0b05c3be7a5",
   "metadata": {
    "tags": []
   },
   "source": [
    "#### 1.1 - Vista previa de los datos"
   ]
  },
  {
   "cell_type": "code",
   "execution_count": 3,
   "id": "369ce12e-24bc-45b8-9603-f3af3aea85ca",
   "metadata": {},
   "outputs": [
    {
     "data": {
      "text/html": [
       "<div>\n",
       "<style scoped>\n",
       "    .dataframe tbody tr th:only-of-type {\n",
       "        vertical-align: middle;\n",
       "    }\n",
       "\n",
       "    .dataframe tbody tr th {\n",
       "        vertical-align: top;\n",
       "    }\n",
       "\n",
       "    .dataframe thead th {\n",
       "        text-align: right;\n",
       "    }\n",
       "</style>\n",
       "<table border=\"1\" class=\"dataframe\">\n",
       "  <thead>\n",
       "    <tr style=\"text-align: right;\">\n",
       "      <th></th>\n",
       "      <th>id</th>\n",
       "      <th>listing_url</th>\n",
       "      <th>scrape_id</th>\n",
       "      <th>last_scraped</th>\n",
       "      <th>source</th>\n",
       "      <th>name</th>\n",
       "      <th>description</th>\n",
       "      <th>neighborhood_overview</th>\n",
       "      <th>picture_url</th>\n",
       "      <th>host_id</th>\n",
       "      <th>...</th>\n",
       "      <th>review_scores_communication</th>\n",
       "      <th>review_scores_location</th>\n",
       "      <th>review_scores_value</th>\n",
       "      <th>license</th>\n",
       "      <th>instant_bookable</th>\n",
       "      <th>calculated_host_listings_count</th>\n",
       "      <th>calculated_host_listings_count_entire_homes</th>\n",
       "      <th>calculated_host_listings_count_private_rooms</th>\n",
       "      <th>calculated_host_listings_count_shared_rooms</th>\n",
       "      <th>reviews_per_month</th>\n",
       "    </tr>\n",
       "  </thead>\n",
       "  <tbody>\n",
       "    <tr>\n",
       "      <th>0</th>\n",
       "      <td>2818</td>\n",
       "      <td>https://www.airbnb.com/rooms/2818</td>\n",
       "      <td>20220907151523</td>\n",
       "      <td>2022-09-07</td>\n",
       "      <td>city scrape</td>\n",
       "      <td>Quiet Garden View Room &amp; Super Fast WiFi</td>\n",
       "      <td>Quiet Garden View Room &amp; Super Fast WiFi&lt;br /&gt;...</td>\n",
       "      <td>Indische Buurt (\"Indies Neighborhood\") is a ne...</td>\n",
       "      <td>https://a0.muscache.com/pictures/10272854/8dcc...</td>\n",
       "      <td>3159</td>\n",
       "      <td>...</td>\n",
       "      <td>4.98</td>\n",
       "      <td>4.69</td>\n",
       "      <td>4.82</td>\n",
       "      <td>0363 5F3A 5684 6750 D14D</td>\n",
       "      <td>t</td>\n",
       "      <td>1</td>\n",
       "      <td>0</td>\n",
       "      <td>1</td>\n",
       "      <td>0</td>\n",
       "      <td>1.86</td>\n",
       "    </tr>\n",
       "    <tr>\n",
       "      <th>1</th>\n",
       "      <td>20168</td>\n",
       "      <td>https://www.airbnb.com/rooms/20168</td>\n",
       "      <td>20220907151523</td>\n",
       "      <td>2022-09-07</td>\n",
       "      <td>previous scrape</td>\n",
       "      <td>Studio with private bathroom in the centre 1</td>\n",
       "      <td>17th century Dutch townhouse in the heart of t...</td>\n",
       "      <td>Located just in between famous central canals....</td>\n",
       "      <td>https://a0.muscache.com/pictures/69979628/fd6a...</td>\n",
       "      <td>59484</td>\n",
       "      <td>...</td>\n",
       "      <td>4.62</td>\n",
       "      <td>4.87</td>\n",
       "      <td>4.49</td>\n",
       "      <td>0363 CBB3 2C10 0C2A 1E29</td>\n",
       "      <td>t</td>\n",
       "      <td>2</td>\n",
       "      <td>0</td>\n",
       "      <td>2</td>\n",
       "      <td>0</td>\n",
       "      <td>2.22</td>\n",
       "    </tr>\n",
       "    <tr>\n",
       "      <th>2</th>\n",
       "      <td>27886</td>\n",
       "      <td>https://www.airbnb.com/rooms/27886</td>\n",
       "      <td>20220907151523</td>\n",
       "      <td>2022-09-07</td>\n",
       "      <td>city scrape</td>\n",
       "      <td>Romantic, stylish B&amp;B houseboat in canal district</td>\n",
       "      <td>Stylish and romantic houseboat on fantastic hi...</td>\n",
       "      <td>Central, quiet, safe, clean and beautiful.</td>\n",
       "      <td>https://a0.muscache.com/pictures/02c2da9d-660e...</td>\n",
       "      <td>97647</td>\n",
       "      <td>...</td>\n",
       "      <td>4.92</td>\n",
       "      <td>4.89</td>\n",
       "      <td>4.79</td>\n",
       "      <td>0363 974D 4986 7411 88D8</td>\n",
       "      <td>t</td>\n",
       "      <td>1</td>\n",
       "      <td>0</td>\n",
       "      <td>1</td>\n",
       "      <td>0</td>\n",
       "      <td>1.78</td>\n",
       "    </tr>\n",
       "    <tr>\n",
       "      <th>3</th>\n",
       "      <td>28871</td>\n",
       "      <td>https://www.airbnb.com/rooms/28871</td>\n",
       "      <td>20220907151523</td>\n",
       "      <td>2022-09-07</td>\n",
       "      <td>city scrape</td>\n",
       "      <td>Comfortable double room</td>\n",
       "      <td>&lt;b&gt;The space&lt;/b&gt;&lt;br /&gt;In a monumental house ri...</td>\n",
       "      <td>Flower market , Leidseplein , Rembrantsplein</td>\n",
       "      <td>https://a0.muscache.com/pictures/160889/362340...</td>\n",
       "      <td>124245</td>\n",
       "      <td>...</td>\n",
       "      <td>4.94</td>\n",
       "      <td>4.96</td>\n",
       "      <td>4.83</td>\n",
       "      <td>0363 607B EA74 0BD8 2F6F</td>\n",
       "      <td>f</td>\n",
       "      <td>2</td>\n",
       "      <td>0</td>\n",
       "      <td>2</td>\n",
       "      <td>0</td>\n",
       "      <td>2.92</td>\n",
       "    </tr>\n",
       "    <tr>\n",
       "      <th>4</th>\n",
       "      <td>29051</td>\n",
       "      <td>https://www.airbnb.com/rooms/29051</td>\n",
       "      <td>20220907151523</td>\n",
       "      <td>2022-09-07</td>\n",
       "      <td>city scrape</td>\n",
       "      <td>Comfortable single room</td>\n",
       "      <td>This room can also accomodate 2 people.  For a...</td>\n",
       "      <td>the street is quite lively especially on weeke...</td>\n",
       "      <td>https://a0.muscache.com/pictures/162009/bd6be2...</td>\n",
       "      <td>124245</td>\n",
       "      <td>...</td>\n",
       "      <td>4.92</td>\n",
       "      <td>4.87</td>\n",
       "      <td>4.77</td>\n",
       "      <td>0363 607B EA74 0BD8 2F6F</td>\n",
       "      <td>f</td>\n",
       "      <td>2</td>\n",
       "      <td>0</td>\n",
       "      <td>2</td>\n",
       "      <td>0</td>\n",
       "      <td>4.16</td>\n",
       "    </tr>\n",
       "  </tbody>\n",
       "</table>\n",
       "<p>5 rows × 75 columns</p>\n",
       "</div>"
      ],
      "text/plain": [
       "      id                         listing_url       scrape_id last_scraped  \\\n",
       "0   2818   https://www.airbnb.com/rooms/2818  20220907151523   2022-09-07   \n",
       "1  20168  https://www.airbnb.com/rooms/20168  20220907151523   2022-09-07   \n",
       "2  27886  https://www.airbnb.com/rooms/27886  20220907151523   2022-09-07   \n",
       "3  28871  https://www.airbnb.com/rooms/28871  20220907151523   2022-09-07   \n",
       "4  29051  https://www.airbnb.com/rooms/29051  20220907151523   2022-09-07   \n",
       "\n",
       "            source                                               name  \\\n",
       "0      city scrape           Quiet Garden View Room & Super Fast WiFi   \n",
       "1  previous scrape       Studio with private bathroom in the centre 1   \n",
       "2      city scrape  Romantic, stylish B&B houseboat in canal district   \n",
       "3      city scrape                            Comfortable double room   \n",
       "4      city scrape                            Comfortable single room   \n",
       "\n",
       "                                         description  \\\n",
       "0  Quiet Garden View Room & Super Fast WiFi<br />...   \n",
       "1  17th century Dutch townhouse in the heart of t...   \n",
       "2  Stylish and romantic houseboat on fantastic hi...   \n",
       "3  <b>The space</b><br />In a monumental house ri...   \n",
       "4  This room can also accomodate 2 people.  For a...   \n",
       "\n",
       "                               neighborhood_overview  \\\n",
       "0  Indische Buurt (\"Indies Neighborhood\") is a ne...   \n",
       "1  Located just in between famous central canals....   \n",
       "2         Central, quiet, safe, clean and beautiful.   \n",
       "3       Flower market , Leidseplein , Rembrantsplein   \n",
       "4  the street is quite lively especially on weeke...   \n",
       "\n",
       "                                         picture_url  host_id  ...  \\\n",
       "0  https://a0.muscache.com/pictures/10272854/8dcc...     3159  ...   \n",
       "1  https://a0.muscache.com/pictures/69979628/fd6a...    59484  ...   \n",
       "2  https://a0.muscache.com/pictures/02c2da9d-660e...    97647  ...   \n",
       "3  https://a0.muscache.com/pictures/160889/362340...   124245  ...   \n",
       "4  https://a0.muscache.com/pictures/162009/bd6be2...   124245  ...   \n",
       "\n",
       "  review_scores_communication review_scores_location review_scores_value  \\\n",
       "0                        4.98                   4.69                4.82   \n",
       "1                        4.62                   4.87                4.49   \n",
       "2                        4.92                   4.89                4.79   \n",
       "3                        4.94                   4.96                4.83   \n",
       "4                        4.92                   4.87                4.77   \n",
       "\n",
       "                    license instant_bookable calculated_host_listings_count  \\\n",
       "0  0363 5F3A 5684 6750 D14D                t                              1   \n",
       "1  0363 CBB3 2C10 0C2A 1E29                t                              2   \n",
       "2  0363 974D 4986 7411 88D8                t                              1   \n",
       "3  0363 607B EA74 0BD8 2F6F                f                              2   \n",
       "4  0363 607B EA74 0BD8 2F6F                f                              2   \n",
       "\n",
       "  calculated_host_listings_count_entire_homes  \\\n",
       "0                                           0   \n",
       "1                                           0   \n",
       "2                                           0   \n",
       "3                                           0   \n",
       "4                                           0   \n",
       "\n",
       "  calculated_host_listings_count_private_rooms  \\\n",
       "0                                            1   \n",
       "1                                            2   \n",
       "2                                            1   \n",
       "3                                            2   \n",
       "4                                            2   \n",
       "\n",
       "  calculated_host_listings_count_shared_rooms reviews_per_month  \n",
       "0                                           0              1.86  \n",
       "1                                           0              2.22  \n",
       "2                                           0              1.78  \n",
       "3                                           0              2.92  \n",
       "4                                           0              4.16  \n",
       "\n",
       "[5 rows x 75 columns]"
      ]
     },
     "execution_count": 3,
     "metadata": {},
     "output_type": "execute_result"
    }
   ],
   "source": [
    "# Vista previa de las primeras filas de los datos\n",
    "df_listings.head()"
   ]
  },
  {
   "cell_type": "markdown",
   "id": "d0e4dd19-4782-4959-bb53-89675ba30d69",
   "metadata": {
    "tags": []
   },
   "source": [
    "#### 1.2 - Tamaño del dataset"
   ]
  },
  {
   "cell_type": "code",
   "execution_count": 4,
   "id": "103cd5f0-c767-45b1-bd2f-19b2c8b40bb8",
   "metadata": {},
   "outputs": [
    {
     "data": {
      "text/plain": [
       "(6893, 75)"
      ]
     },
     "execution_count": 4,
     "metadata": {},
     "output_type": "execute_result"
    }
   ],
   "source": [
    "# Filas y columnas del dataset\n",
    "df_listings.shape"
   ]
  },
  {
   "cell_type": "markdown",
   "id": "8c53ecba-1fad-40e2-a28c-d191813f8e8e",
   "metadata": {
    "tags": []
   },
   "source": [
    "#### 1.3 - Tipo de variables"
   ]
  },
  {
   "cell_type": "code",
   "execution_count": 5,
   "id": "0b711372-b04b-4d63-9763-265c95b806be",
   "metadata": {},
   "outputs": [
    {
     "name": "stdout",
     "output_type": "stream",
     "text": [
      "<class 'pandas.core.frame.DataFrame'>\n",
      "RangeIndex: 6893 entries, 0 to 6892\n",
      "Data columns (total 75 columns):\n",
      " #   Column                                        Non-Null Count  Dtype  \n",
      "---  ------                                        --------------  -----  \n",
      " 0   id                                            6893 non-null   int64  \n",
      " 1   listing_url                                   6893 non-null   object \n",
      " 2   scrape_id                                     6893 non-null   int64  \n",
      " 3   last_scraped                                  6893 non-null   object \n",
      " 4   source                                        6893 non-null   object \n",
      " 5   name                                          6893 non-null   object \n",
      " 6   description                                   6877 non-null   object \n",
      " 7   neighborhood_overview                         4628 non-null   object \n",
      " 8   picture_url                                   6893 non-null   object \n",
      " 9   host_id                                       6893 non-null   int64  \n",
      " 10  host_url                                      6893 non-null   object \n",
      " 11  host_name                                     6893 non-null   object \n",
      " 12  host_since                                    6893 non-null   object \n",
      " 13  host_location                                 6122 non-null   object \n",
      " 14  host_about                                    4132 non-null   object \n",
      " 15  host_response_time                            5236 non-null   object \n",
      " 16  host_response_rate                            5236 non-null   object \n",
      " 17  host_acceptance_rate                          6031 non-null   object \n",
      " 18  host_is_superhost                             6885 non-null   object \n",
      " 19  host_thumbnail_url                            6893 non-null   object \n",
      " 20  host_picture_url                              6893 non-null   object \n",
      " 21  host_neighbourhood                            3096 non-null   object \n",
      " 22  host_listings_count                           6893 non-null   int64  \n",
      " 23  host_total_listings_count                     6893 non-null   int64  \n",
      " 24  host_verifications                            6893 non-null   object \n",
      " 25  host_has_profile_pic                          6893 non-null   object \n",
      " 26  host_identity_verified                        6893 non-null   object \n",
      " 27  neighbourhood                                 4628 non-null   object \n",
      " 28  neighbourhood_cleansed                        6893 non-null   object \n",
      " 29  neighbourhood_group_cleansed                  0 non-null      float64\n",
      " 30  latitude                                      6893 non-null   float64\n",
      " 31  longitude                                     6893 non-null   float64\n",
      " 32  property_type                                 6893 non-null   object \n",
      " 33  room_type                                     6893 non-null   object \n",
      " 34  accommodates                                  6893 non-null   int64  \n",
      " 35  bathrooms                                     0 non-null      float64\n",
      " 36  bathrooms_text                                6878 non-null   object \n",
      " 37  bedrooms                                      6578 non-null   float64\n",
      " 38  beds                                          6792 non-null   float64\n",
      " 39  amenities                                     6893 non-null   object \n",
      " 40  price                                         6893 non-null   object \n",
      " 41  minimum_nights                                6893 non-null   int64  \n",
      " 42  maximum_nights                                6893 non-null   int64  \n",
      " 43  minimum_minimum_nights                        6891 non-null   float64\n",
      " 44  maximum_minimum_nights                        6891 non-null   float64\n",
      " 45  minimum_maximum_nights                        6891 non-null   float64\n",
      " 46  maximum_maximum_nights                        6891 non-null   float64\n",
      " 47  minimum_nights_avg_ntm                        6891 non-null   float64\n",
      " 48  maximum_nights_avg_ntm                        6891 non-null   float64\n",
      " 49  calendar_updated                              0 non-null      float64\n",
      " 50  has_availability                              6893 non-null   object \n",
      " 51  availability_30                               6893 non-null   int64  \n",
      " 52  availability_60                               6893 non-null   int64  \n",
      " 53  availability_90                               6893 non-null   int64  \n",
      " 54  availability_365                              6893 non-null   int64  \n",
      " 55  calendar_last_scraped                         6893 non-null   object \n",
      " 56  number_of_reviews                             6893 non-null   int64  \n",
      " 57  number_of_reviews_ltm                         6893 non-null   int64  \n",
      " 58  number_of_reviews_l30d                        6893 non-null   int64  \n",
      " 59  first_review                                  6247 non-null   object \n",
      " 60  last_review                                   6247 non-null   object \n",
      " 61  review_scores_rating                          6247 non-null   float64\n",
      " 62  review_scores_accuracy                        6242 non-null   float64\n",
      " 63  review_scores_cleanliness                     6242 non-null   float64\n",
      " 64  review_scores_checkin                         6242 non-null   float64\n",
      " 65  review_scores_communication                   6242 non-null   float64\n",
      " 66  review_scores_location                        6242 non-null   float64\n",
      " 67  review_scores_value                           6242 non-null   float64\n",
      " 68  license                                       6449 non-null   object \n",
      " 69  instant_bookable                              6893 non-null   object \n",
      " 70  calculated_host_listings_count                6893 non-null   int64  \n",
      " 71  calculated_host_listings_count_entire_homes   6893 non-null   int64  \n",
      " 72  calculated_host_listings_count_private_rooms  6893 non-null   int64  \n",
      " 73  calculated_host_listings_count_shared_rooms   6893 non-null   int64  \n",
      " 74  reviews_per_month                             6247 non-null   float64\n",
      "dtypes: float64(21), int64(19), object(35)\n",
      "memory usage: 3.9+ MB\n"
     ]
    }
   ],
   "source": [
    "# Lista completa del tipo de datos de cada columna\n",
    "df_listings.info(verbose = True)"
   ]
  },
  {
   "cell_type": "code",
   "execution_count": 6,
   "id": "5adae741-ded7-4833-94d0-dbbbbdcd091c",
   "metadata": {},
   "outputs": [
    {
     "data": {
      "text/plain": [
       "id                                                 0\n",
       "scrape_id                                          0\n",
       "host_id                                            0\n",
       "host_listings_count                                0\n",
       "host_total_listings_count                          0\n",
       "neighbourhood_group_cleansed                    6893\n",
       "latitude                                           0\n",
       "longitude                                          0\n",
       "accommodates                                       0\n",
       "bathrooms                                       6893\n",
       "bedrooms                                         315\n",
       "beds                                             101\n",
       "minimum_nights                                     0\n",
       "maximum_nights                                     0\n",
       "minimum_minimum_nights                             2\n",
       "maximum_minimum_nights                             2\n",
       "minimum_maximum_nights                             2\n",
       "maximum_maximum_nights                             2\n",
       "minimum_nights_avg_ntm                             2\n",
       "maximum_nights_avg_ntm                             2\n",
       "calendar_updated                                6893\n",
       "availability_30                                    0\n",
       "availability_60                                    0\n",
       "availability_90                                    0\n",
       "availability_365                                   0\n",
       "number_of_reviews                                  0\n",
       "number_of_reviews_ltm                              0\n",
       "number_of_reviews_l30d                             0\n",
       "review_scores_rating                             646\n",
       "review_scores_accuracy                           651\n",
       "review_scores_cleanliness                        651\n",
       "review_scores_checkin                            651\n",
       "review_scores_communication                      651\n",
       "review_scores_location                           651\n",
       "review_scores_value                              651\n",
       "calculated_host_listings_count                     0\n",
       "calculated_host_listings_count_entire_homes        0\n",
       "calculated_host_listings_count_private_rooms       0\n",
       "calculated_host_listings_count_shared_rooms        0\n",
       "reviews_per_month                                646\n",
       "dtype: int64"
      ]
     },
     "execution_count": 6,
     "metadata": {},
     "output_type": "execute_result"
    }
   ],
   "source": [
    "numerical = df_listings.select_dtypes(exclude = 'object') # Selección de variables numéricas\n",
    "numerical.isnull().sum() # Nº de nulos de cada variable numérica"
   ]
  },
  {
   "cell_type": "code",
   "execution_count": 7,
   "id": "99c27b70-497c-484c-8d7c-885409fd133b",
   "metadata": {},
   "outputs": [
    {
     "data": {
      "text/plain": [
       "listing_url                  0\n",
       "last_scraped                 0\n",
       "source                       0\n",
       "name                         0\n",
       "description                 16\n",
       "neighborhood_overview     2265\n",
       "picture_url                  0\n",
       "host_url                     0\n",
       "host_name                    0\n",
       "host_since                   0\n",
       "host_location              771\n",
       "host_about                2761\n",
       "host_response_time        1657\n",
       "host_response_rate        1657\n",
       "host_acceptance_rate       862\n",
       "host_is_superhost            8\n",
       "host_thumbnail_url           0\n",
       "host_picture_url             0\n",
       "host_neighbourhood        3797\n",
       "host_verifications           0\n",
       "host_has_profile_pic         0\n",
       "host_identity_verified       0\n",
       "neighbourhood             2265\n",
       "neighbourhood_cleansed       0\n",
       "property_type                0\n",
       "room_type                    0\n",
       "bathrooms_text              15\n",
       "amenities                    0\n",
       "price                        0\n",
       "has_availability             0\n",
       "calendar_last_scraped        0\n",
       "first_review               646\n",
       "last_review                646\n",
       "license                    444\n",
       "instant_bookable             0\n",
       "dtype: int64"
      ]
     },
     "execution_count": 7,
     "metadata": {},
     "output_type": "execute_result"
    }
   ],
   "source": [
    "categorical = df_listings.select_dtypes(include = 'object') # Selección de variables categóricas\n",
    "categorical.isnull().sum() # Nº de nulos de cada variable categórica"
   ]
  },
  {
   "cell_type": "code",
   "execution_count": 8,
   "id": "e7e95736-5d51-4de0-b3a0-38530b0082c7",
   "metadata": {},
   "outputs": [
    {
     "name": "stdout",
     "output_type": "stream",
     "text": [
      "listing_url: 6893\n",
      "last_scraped: 2\n",
      "source: 2\n",
      "name: 6819\n",
      "description: 6777\n",
      "neighborhood_overview: 4183\n",
      "picture_url: 6809\n",
      "host_url: 5769\n",
      "host_name: 2823\n",
      "host_since: 2657\n",
      "host_location: 163\n",
      "host_about: 3366\n",
      "host_response_time: 4\n",
      "host_response_rate: 59\n",
      "host_acceptance_rate: 97\n",
      "host_is_superhost: 2\n",
      "host_thumbnail_url: 5726\n",
      "host_picture_url: 5726\n",
      "host_neighbourhood: 59\n",
      "host_verifications: 6\n",
      "host_has_profile_pic: 2\n",
      "host_identity_verified: 2\n",
      "neighbourhood: 88\n",
      "neighbourhood_cleansed: 22\n",
      "property_type: 62\n",
      "room_type: 4\n",
      "bathrooms_text: 23\n",
      "amenities: 6693\n",
      "price: 590\n",
      "has_availability: 2\n",
      "calendar_last_scraped: 2\n",
      "first_review: 2283\n",
      "last_review: 853\n",
      "license: 5412\n",
      "instant_bookable: 2\n"
     ]
    }
   ],
   "source": [
    "# Nº de valores únicos de las variables categóricas\n",
    "for column in categorical:\n",
    "    print(column + ':', categorical[column].nunique())"
   ]
  },
  {
   "cell_type": "markdown",
   "id": "30d03f4b-d156-4c3a-95c1-0a6ccc0cc651",
   "metadata": {},
   "source": [
    "### **2 - Detección de valores nulos y duplicados**"
   ]
  },
  {
   "cell_type": "markdown",
   "id": "500c0a38-4159-4767-a710-5b8ae6ccdc97",
   "metadata": {
    "tags": []
   },
   "source": [
    "#### 2.1 - Valores nulos y valores duplicados"
   ]
  },
  {
   "cell_type": "code",
   "execution_count": 9,
   "id": "41d97264-ce12-4dda-8374-363c2d7e83bc",
   "metadata": {},
   "outputs": [
    {
     "data": {
      "text/plain": [
       "id                                              False\n",
       "listing_url                                     False\n",
       "scrape_id                                       False\n",
       "last_scraped                                    False\n",
       "source                                          False\n",
       "                                                ...  \n",
       "calculated_host_listings_count                  False\n",
       "calculated_host_listings_count_entire_homes     False\n",
       "calculated_host_listings_count_private_rooms    False\n",
       "calculated_host_listings_count_shared_rooms     False\n",
       "reviews_per_month                                True\n",
       "Length: 75, dtype: bool"
      ]
     },
     "execution_count": 9,
     "metadata": {},
     "output_type": "execute_result"
    }
   ],
   "source": [
    "# Comprobación de existencia de nulos en cada variable\n",
    "df_listings.isnull().any()"
   ]
  },
  {
   "cell_type": "code",
   "execution_count": 10,
   "id": "89575a8c-f7f1-4d6d-aefb-d40c177750e8",
   "metadata": {},
   "outputs": [
    {
     "data": {
      "text/plain": [
       "False"
      ]
     },
     "execution_count": 10,
     "metadata": {},
     "output_type": "execute_result"
    }
   ],
   "source": [
    "# Comprobación de existencia de duplicados\n",
    "df_listings.duplicated().any()"
   ]
  },
  {
   "cell_type": "markdown",
   "id": "a4c4e437-1488-4cb3-8273-e76b7e531658",
   "metadata": {
    "tags": []
   },
   "source": [
    "#### 2.2 - Total de valores nulos y duplicados"
   ]
  },
  {
   "cell_type": "code",
   "execution_count": 11,
   "id": "a072904c-5c84-4439-a303-5c4aae9b5eea",
   "metadata": {},
   "outputs": [
    {
     "data": {
      "text/plain": [
       "id                                                0\n",
       "listing_url                                       0\n",
       "scrape_id                                         0\n",
       "last_scraped                                      0\n",
       "source                                            0\n",
       "                                               ... \n",
       "calculated_host_listings_count                    0\n",
       "calculated_host_listings_count_entire_homes       0\n",
       "calculated_host_listings_count_private_rooms      0\n",
       "calculated_host_listings_count_shared_rooms       0\n",
       "reviews_per_month                               646\n",
       "Length: 75, dtype: int64"
      ]
     },
     "execution_count": 11,
     "metadata": {},
     "output_type": "execute_result"
    }
   ],
   "source": [
    "# Nº de nulos en cada variable\n",
    "df_listings.isnull().sum()"
   ]
  },
  {
   "cell_type": "code",
   "execution_count": 12,
   "id": "bd19e4e2-e46c-4a42-b6a9-d5b4df12db23",
   "metadata": {},
   "outputs": [
    {
     "data": {
      "text/plain": [
       "0"
      ]
     },
     "execution_count": 12,
     "metadata": {},
     "output_type": "execute_result"
    }
   ],
   "source": [
    "# Nº de duplicados\n",
    "df_listings.duplicated().sum()"
   ]
  },
  {
   "cell_type": "markdown",
   "id": "a0d39504-ccec-4173-8c0e-1be8dcd6f494",
   "metadata": {
    "tags": []
   },
   "source": [
    "### **3 - Creación de nuevo dataset con variables clave**"
   ]
  },
  {
   "cell_type": "markdown",
   "id": "ebc532cc-a50d-48c3-9f0f-7bfd213e93fb",
   "metadata": {
    "tags": []
   },
   "source": [
    "#### 3.1 - Selección de variables de interés de análisis de negocio"
   ]
  },
  {
   "cell_type": "code",
   "execution_count": 13,
   "id": "9a64b9cc-8494-435c-8c4e-42003aefbf29",
   "metadata": {},
   "outputs": [],
   "source": [
    "df_new_listings = df_listings[['id','name','latitude','longitude','minimum_nights','amenities','last_review','room_type','price','neighbourhood_cleansed','host_id','bedrooms','accommodates','review_scores_rating','review_scores_location','review_scores_checkin']]"
   ]
  },
  {
   "cell_type": "markdown",
   "id": "35deb0b3-ca7b-41c6-95bb-c16082eb8df3",
   "metadata": {
    "tags": []
   },
   "source": [
    "#### 3.2 - Tipos de variable en el nuevo dataset"
   ]
  },
  {
   "cell_type": "code",
   "execution_count": 14,
   "id": "aa91ea26-e56c-42b7-8522-bda252b10bd1",
   "metadata": {},
   "outputs": [
    {
     "data": {
      "text/plain": [
       "id                          int64\n",
       "name                       object\n",
       "latitude                  float64\n",
       "longitude                 float64\n",
       "minimum_nights              int64\n",
       "amenities                  object\n",
       "last_review                object\n",
       "room_type                  object\n",
       "price                      object\n",
       "neighbourhood_cleansed     object\n",
       "host_id                     int64\n",
       "bedrooms                  float64\n",
       "accommodates                int64\n",
       "review_scores_rating      float64\n",
       "review_scores_location    float64\n",
       "review_scores_checkin     float64\n",
       "dtype: object"
      ]
     },
     "execution_count": 14,
     "metadata": {},
     "output_type": "execute_result"
    }
   ],
   "source": [
    "# Tipos de cada columna\n",
    "df_new_listings.dtypes"
   ]
  },
  {
   "cell_type": "markdown",
   "id": "8434a3d3-ec97-4fbf-a2a8-3fe0c266b6fe",
   "metadata": {
    "tags": []
   },
   "source": [
    "### **4 - Transformación de datos**"
   ]
  },
  {
   "cell_type": "markdown",
   "id": "636ab220-906b-48fa-ae73-32fb4c4ed017",
   "metadata": {
    "tags": []
   },
   "source": [
    "#### 4.1 - Transformación de la variable 'price'"
   ]
  },
  {
   "cell_type": "code",
   "execution_count": 15,
   "id": "cacf5d1e-b39f-49cd-a2f3-bce903f0de41",
   "metadata": {},
   "outputs": [
    {
     "data": {
      "text/plain": [
       "0     $49.00\n",
       "1    $106.00\n",
       "2    $136.00\n",
       "3     $75.00\n",
       "4     $55.00\n",
       "Name: price, dtype: object"
      ]
     },
     "execution_count": 15,
     "metadata": {},
     "output_type": "execute_result"
    }
   ],
   "source": [
    "df_new_listings['price'].head()"
   ]
  },
  {
   "cell_type": "code",
   "execution_count": 16,
   "id": "cb5208e7-ab7e-4037-af8d-22ff1d85eec5",
   "metadata": {},
   "outputs": [
    {
     "data": {
      "text/plain": [
       "0     49.0\n",
       "1    106.0\n",
       "2    136.0\n",
       "3     75.0\n",
       "4     55.0\n",
       "Name: price, dtype: float64"
      ]
     },
     "execution_count": 16,
     "metadata": {},
     "output_type": "execute_result"
    }
   ],
   "source": [
    "df_new_listings['price'] = df_new_listings['price'].str.replace('$','') # Eliminación del símbolo $\n",
    "df_new_listings['price'] = df_new_listings['price'].str.replace(',','') # Eliminación del separador de miles\n",
    "df_new_listings['price'] = df_new_listings['price'].astype(float) # Conversión de la variable a tipo float\n",
    "df_new_listings['price'].head()"
   ]
  },
  {
   "cell_type": "markdown",
   "id": "7b4ad51a-3813-4c29-bd92-dc0fab43e616",
   "metadata": {
    "tags": []
   },
   "source": [
    "#### 4.2 - Transformación de la variable 'last_review'"
   ]
  },
  {
   "cell_type": "code",
   "execution_count": 17,
   "id": "c1f4c224-44e2-4ec8-bc58-58bc647dcb2b",
   "metadata": {},
   "outputs": [
    {
     "data": {
      "text/plain": [
       "0   2022-08-30\n",
       "1   2020-04-09\n",
       "2   2022-04-24\n",
       "3   2022-08-24\n",
       "4   2022-08-29\n",
       "Name: last_review, dtype: datetime64[ns]"
      ]
     },
     "execution_count": 17,
     "metadata": {},
     "output_type": "execute_result"
    }
   ],
   "source": [
    "# Conversión de la variable a tipo fecha\n",
    "df_new_listings['last_review'] = pd.to_datetime(df_new_listings['last_review'], format = '%Y-%m-%d')\n",
    "df_new_listings['last_review'].head()"
   ]
  },
  {
   "cell_type": "markdown",
   "id": "dbf6fc0e-41a5-40ec-aa67-f758e76cc708",
   "metadata": {
    "tags": []
   },
   "source": [
    "### **5 - Análisis de nulos**"
   ]
  },
  {
   "cell_type": "markdown",
   "id": "47855285-1266-460c-9401-0e539d5f4666",
   "metadata": {
    "tags": []
   },
   "source": [
    "#### 5.1 - Total de nulos por variable"
   ]
  },
  {
   "cell_type": "code",
   "execution_count": 18,
   "id": "4f370942-d5aa-4c0a-bc7c-85eea880b360",
   "metadata": {},
   "outputs": [
    {
     "data": {
      "text/plain": [
       "id                          0\n",
       "name                        0\n",
       "latitude                    0\n",
       "longitude                   0\n",
       "minimum_nights              0\n",
       "amenities                   0\n",
       "last_review               646\n",
       "room_type                   0\n",
       "price                       0\n",
       "neighbourhood_cleansed      0\n",
       "host_id                     0\n",
       "bedrooms                  315\n",
       "accommodates                0\n",
       "review_scores_rating      646\n",
       "review_scores_location    651\n",
       "review_scores_checkin     651\n",
       "dtype: int64"
      ]
     },
     "execution_count": 18,
     "metadata": {},
     "output_type": "execute_result"
    }
   ],
   "source": [
    "# Nº de nulos por variable\n",
    "df_new_listings.isnull().sum()"
   ]
  },
  {
   "cell_type": "markdown",
   "id": "06e25330-6948-46e3-9d70-1843de42fb35",
   "metadata": {
    "tags": []
   },
   "source": [
    "#### 5.2 - Eliminación de valores nulos"
   ]
  },
  {
   "cell_type": "code",
   "execution_count": 19,
   "id": "61c6d7a8-cc31-4573-ba3d-8f7dfdebf940",
   "metadata": {},
   "outputs": [
    {
     "data": {
      "text/plain": [
       "id                        0\n",
       "name                      0\n",
       "latitude                  0\n",
       "longitude                 0\n",
       "minimum_nights            0\n",
       "amenities                 0\n",
       "last_review               0\n",
       "room_type                 0\n",
       "price                     0\n",
       "neighbourhood_cleansed    0\n",
       "host_id                   0\n",
       "bedrooms                  0\n",
       "accommodates              0\n",
       "review_scores_rating      0\n",
       "review_scores_location    0\n",
       "review_scores_checkin     0\n",
       "dtype: int64"
      ]
     },
     "execution_count": 19,
     "metadata": {},
     "output_type": "execute_result"
    }
   ],
   "source": [
    "# Eliminación de todos los valores nulos debido a que representan una pequeña proporción sobre el tamaño del dataset\n",
    "df_new_listings_clean = df_new_listings.dropna()\n",
    "df_new_listings_clean.isnull().sum()"
   ]
  },
  {
   "cell_type": "markdown",
   "id": "65059ec8-550a-4d3f-833d-0dccb2762f72",
   "metadata": {},
   "source": [
    "### **6 - Manipulación de datos**"
   ]
  },
  {
   "cell_type": "markdown",
   "id": "4cf1ee3a-1a85-4d98-8c71-da5c99aa6646",
   "metadata": {
    "tags": []
   },
   "source": [
    "#### 6.1 - Valores máximo, mínimo y medio de 'last_review'."
   ]
  },
  {
   "cell_type": "code",
   "execution_count": 20,
   "id": "616ec74c-dd64-41c0-8eed-b855a71b384f",
   "metadata": {},
   "outputs": [
    {
     "data": {
      "text/html": [
       "<div>\n",
       "<style scoped>\n",
       "    .dataframe tbody tr th:only-of-type {\n",
       "        vertical-align: middle;\n",
       "    }\n",
       "\n",
       "    .dataframe tbody tr th {\n",
       "        vertical-align: top;\n",
       "    }\n",
       "\n",
       "    .dataframe thead th {\n",
       "        text-align: right;\n",
       "    }\n",
       "</style>\n",
       "<table border=\"1\" class=\"dataframe\">\n",
       "  <thead>\n",
       "    <tr style=\"text-align: right;\">\n",
       "      <th></th>\n",
       "      <th>last_review</th>\n",
       "    </tr>\n",
       "  </thead>\n",
       "  <tbody>\n",
       "    <tr>\n",
       "      <th>max</th>\n",
       "      <td>2022-09-07 00:00:00.000000000</td>\n",
       "    </tr>\n",
       "    <tr>\n",
       "      <th>min</th>\n",
       "      <td>2014-01-04 00:00:00.000000000</td>\n",
       "    </tr>\n",
       "    <tr>\n",
       "      <th>mean</th>\n",
       "      <td>2022-01-15 17:54:58.435660288</td>\n",
       "    </tr>\n",
       "  </tbody>\n",
       "</table>\n",
       "</div>"
      ],
      "text/plain": [
       "                       last_review\n",
       "max  2022-09-07 00:00:00.000000000\n",
       "min  2014-01-04 00:00:00.000000000\n",
       "mean 2022-01-15 17:54:58.435660288"
      ]
     },
     "execution_count": 20,
     "metadata": {},
     "output_type": "execute_result"
    }
   ],
   "source": [
    "# Valor máximo, mínimo y medio de la variable de última reseña\n",
    "df_new_listings_clean.agg({'last_review':['max','min','mean']})"
   ]
  },
  {
   "cell_type": "markdown",
   "id": "e2318955-e13d-468f-aefc-61b677cef539",
   "metadata": {
    "tags": []
   },
   "source": [
    "#### 6.2 - Eliminación de valores anteriores a 2022"
   ]
  },
  {
   "cell_type": "code",
   "execution_count": 21,
   "id": "fbd82390-9de8-44fb-b864-ded0e40fd514",
   "metadata": {},
   "outputs": [],
   "source": [
    "# Eliminación de los valores anteriores al año 2022\n",
    "cond_last_review = df_new_listings_clean['last_review'].dt.year >= 2022\n",
    "\n",
    "df_new_listings_clean = df_new_listings_clean[cond_last_review]"
   ]
  },
  {
   "cell_type": "markdown",
   "id": "ae761bc6-9c3e-4a97-94fe-7da86a191045",
   "metadata": {},
   "source": [
    "#### 6.3 - Estadísticas descriptivas y cuartiles"
   ]
  },
  {
   "cell_type": "code",
   "execution_count": 22,
   "id": "a1db2027-aa0e-4726-82de-ecb833e00c9b",
   "metadata": {},
   "outputs": [
    {
     "data": {
      "text/html": [
       "<div>\n",
       "<style scoped>\n",
       "    .dataframe tbody tr th:only-of-type {\n",
       "        vertical-align: middle;\n",
       "    }\n",
       "\n",
       "    .dataframe tbody tr th {\n",
       "        vertical-align: top;\n",
       "    }\n",
       "\n",
       "    .dataframe thead th {\n",
       "        text-align: right;\n",
       "    }\n",
       "</style>\n",
       "<table border=\"1\" class=\"dataframe\">\n",
       "  <thead>\n",
       "    <tr style=\"text-align: right;\">\n",
       "      <th></th>\n",
       "      <th>count</th>\n",
       "      <th>mean</th>\n",
       "      <th>std</th>\n",
       "      <th>min</th>\n",
       "      <th>25%</th>\n",
       "      <th>50%</th>\n",
       "      <th>75%</th>\n",
       "      <th>max</th>\n",
       "    </tr>\n",
       "  </thead>\n",
       "  <tbody>\n",
       "    <tr>\n",
       "      <th>id</th>\n",
       "      <td>4609.0</td>\n",
       "      <td>1.033488e+17</td>\n",
       "      <td>2.344258e+17</td>\n",
       "      <td>2818.00000</td>\n",
       "      <td>1.432576e+07</td>\n",
       "      <td>3.217999e+07</td>\n",
       "      <td>5.066769e+07</td>\n",
       "      <td>7.054479e+17</td>\n",
       "    </tr>\n",
       "    <tr>\n",
       "      <th>latitude</th>\n",
       "      <td>4609.0</td>\n",
       "      <td>5.236603e+01</td>\n",
       "      <td>2.252906e-02</td>\n",
       "      <td>52.26850</td>\n",
       "      <td>5.235537e+01</td>\n",
       "      <td>5.236593e+01</td>\n",
       "      <td>5.237687e+01</td>\n",
       "      <td>5.244234e+01</td>\n",
       "    </tr>\n",
       "    <tr>\n",
       "      <th>longitude</th>\n",
       "      <td>4609.0</td>\n",
       "      <td>4.892583e+00</td>\n",
       "      <td>4.171489e-02</td>\n",
       "      <td>4.74243</td>\n",
       "      <td>4.868330e+00</td>\n",
       "      <td>4.889480e+00</td>\n",
       "      <td>4.910540e+00</td>\n",
       "      <td>5.074200e+00</td>\n",
       "    </tr>\n",
       "    <tr>\n",
       "      <th>minimum_nights</th>\n",
       "      <td>4609.0</td>\n",
       "      <td>4.749620e+00</td>\n",
       "      <td>3.977075e+01</td>\n",
       "      <td>1.00000</td>\n",
       "      <td>2.000000e+00</td>\n",
       "      <td>2.000000e+00</td>\n",
       "      <td>3.000000e+00</td>\n",
       "      <td>1.000000e+03</td>\n",
       "    </tr>\n",
       "    <tr>\n",
       "      <th>price</th>\n",
       "      <td>4609.0</td>\n",
       "      <td>2.275066e+02</td>\n",
       "      <td>2.072203e+02</td>\n",
       "      <td>15.00000</td>\n",
       "      <td>1.300000e+02</td>\n",
       "      <td>1.900000e+02</td>\n",
       "      <td>2.760000e+02</td>\n",
       "      <td>7.900000e+03</td>\n",
       "    </tr>\n",
       "    <tr>\n",
       "      <th>host_id</th>\n",
       "      <td>4609.0</td>\n",
       "      <td>9.811184e+07</td>\n",
       "      <td>1.286594e+08</td>\n",
       "      <td>3159.00000</td>\n",
       "      <td>9.282300e+06</td>\n",
       "      <td>3.413314e+07</td>\n",
       "      <td>1.416487e+08</td>\n",
       "      <td>4.774899e+08</td>\n",
       "    </tr>\n",
       "    <tr>\n",
       "      <th>bedrooms</th>\n",
       "      <td>4609.0</td>\n",
       "      <td>1.580386e+00</td>\n",
       "      <td>8.992748e-01</td>\n",
       "      <td>1.00000</td>\n",
       "      <td>1.000000e+00</td>\n",
       "      <td>1.000000e+00</td>\n",
       "      <td>2.000000e+00</td>\n",
       "      <td>1.000000e+01</td>\n",
       "    </tr>\n",
       "    <tr>\n",
       "      <th>accommodates</th>\n",
       "      <td>4609.0</td>\n",
       "      <td>3.017574e+00</td>\n",
       "      <td>1.497942e+00</td>\n",
       "      <td>1.00000</td>\n",
       "      <td>2.000000e+00</td>\n",
       "      <td>2.000000e+00</td>\n",
       "      <td>4.000000e+00</td>\n",
       "      <td>1.600000e+01</td>\n",
       "    </tr>\n",
       "    <tr>\n",
       "      <th>review_scores_rating</th>\n",
       "      <td>4609.0</td>\n",
       "      <td>4.817240e+00</td>\n",
       "      <td>2.453843e-01</td>\n",
       "      <td>2.00000</td>\n",
       "      <td>4.740000e+00</td>\n",
       "      <td>4.890000e+00</td>\n",
       "      <td>5.000000e+00</td>\n",
       "      <td>5.000000e+00</td>\n",
       "    </tr>\n",
       "    <tr>\n",
       "      <th>review_scores_location</th>\n",
       "      <td>4609.0</td>\n",
       "      <td>4.787088e+00</td>\n",
       "      <td>2.479975e-01</td>\n",
       "      <td>1.00000</td>\n",
       "      <td>4.680000e+00</td>\n",
       "      <td>4.860000e+00</td>\n",
       "      <td>5.000000e+00</td>\n",
       "      <td>5.000000e+00</td>\n",
       "    </tr>\n",
       "    <tr>\n",
       "      <th>review_scores_checkin</th>\n",
       "      <td>4609.0</td>\n",
       "      <td>4.880809e+00</td>\n",
       "      <td>2.091582e-01</td>\n",
       "      <td>2.00000</td>\n",
       "      <td>4.850000e+00</td>\n",
       "      <td>4.950000e+00</td>\n",
       "      <td>5.000000e+00</td>\n",
       "      <td>5.000000e+00</td>\n",
       "    </tr>\n",
       "  </tbody>\n",
       "</table>\n",
       "</div>"
      ],
      "text/plain": [
       "                         count          mean           std         min  \\\n",
       "id                      4609.0  1.033488e+17  2.344258e+17  2818.00000   \n",
       "latitude                4609.0  5.236603e+01  2.252906e-02    52.26850   \n",
       "longitude               4609.0  4.892583e+00  4.171489e-02     4.74243   \n",
       "minimum_nights          4609.0  4.749620e+00  3.977075e+01     1.00000   \n",
       "price                   4609.0  2.275066e+02  2.072203e+02    15.00000   \n",
       "host_id                 4609.0  9.811184e+07  1.286594e+08  3159.00000   \n",
       "bedrooms                4609.0  1.580386e+00  8.992748e-01     1.00000   \n",
       "accommodates            4609.0  3.017574e+00  1.497942e+00     1.00000   \n",
       "review_scores_rating    4609.0  4.817240e+00  2.453843e-01     2.00000   \n",
       "review_scores_location  4609.0  4.787088e+00  2.479975e-01     1.00000   \n",
       "review_scores_checkin   4609.0  4.880809e+00  2.091582e-01     2.00000   \n",
       "\n",
       "                                 25%           50%           75%           max  \n",
       "id                      1.432576e+07  3.217999e+07  5.066769e+07  7.054479e+17  \n",
       "latitude                5.235537e+01  5.236593e+01  5.237687e+01  5.244234e+01  \n",
       "longitude               4.868330e+00  4.889480e+00  4.910540e+00  5.074200e+00  \n",
       "minimum_nights          2.000000e+00  2.000000e+00  3.000000e+00  1.000000e+03  \n",
       "price                   1.300000e+02  1.900000e+02  2.760000e+02  7.900000e+03  \n",
       "host_id                 9.282300e+06  3.413314e+07  1.416487e+08  4.774899e+08  \n",
       "bedrooms                1.000000e+00  1.000000e+00  2.000000e+00  1.000000e+01  \n",
       "accommodates            2.000000e+00  2.000000e+00  4.000000e+00  1.600000e+01  \n",
       "review_scores_rating    4.740000e+00  4.890000e+00  5.000000e+00  5.000000e+00  \n",
       "review_scores_location  4.680000e+00  4.860000e+00  5.000000e+00  5.000000e+00  \n",
       "review_scores_checkin   4.850000e+00  4.950000e+00  5.000000e+00  5.000000e+00  "
      ]
     },
     "execution_count": 22,
     "metadata": {},
     "output_type": "execute_result"
    }
   ],
   "source": [
    "# Estadísticas descriptivas y cuartiles de las variables numéricas\n",
    "df_new_listings_clean.describe().T"
   ]
  },
  {
   "cell_type": "code",
   "execution_count": 23,
   "id": "8df79632-8259-4963-9444-4d2615f50e4e",
   "metadata": {},
   "outputs": [],
   "source": [
    "# Exportación del nuevo dataset\n",
    "df_new_listings_clean.to_csv('./data/listings_clean.csv')"
   ]
  }
 ],
 "metadata": {
  "kernelspec": {
   "display_name": "Python 3 (ipykernel)",
   "language": "python",
   "name": "python3"
  },
  "language_info": {
   "codemirror_mode": {
    "name": "ipython",
    "version": 3
   },
   "file_extension": ".py",
   "mimetype": "text/x-python",
   "name": "python",
   "nbconvert_exporter": "python",
   "pygments_lexer": "ipython3",
   "version": "3.9.13"
  }
 },
 "nbformat": 4,
 "nbformat_minor": 5
}
